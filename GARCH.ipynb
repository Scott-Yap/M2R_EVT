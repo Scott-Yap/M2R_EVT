{
 "cells": [
  {
   "cell_type": "code",
   "execution_count": null,
   "id": "3b032351",
   "metadata": {},
   "outputs": [
    {
     "name": "stdout",
     "output_type": "stream",
     "text": [
      "Collecting pyextremes\n",
      "  Obtaining dependency information for pyextremes from https://files.pythonhosted.org/packages/76/17/f6eb9f3208f94999fa92a019852de27dacee45fd377aac3ef7d576df691a/pyextremes-2.3.3-py3-none-any.whl.metadata\n",
      "  Downloading pyextremes-2.3.3-py3-none-any.whl.metadata (5.8 kB)\n",
      "Collecting emcee<4.0.0,>=3.0.3 (from pyextremes)\n",
      "  Obtaining dependency information for emcee<4.0.0,>=3.0.3 from https://files.pythonhosted.org/packages/f9/ef/2196b9bf88ffa1bde45853c72df021fbd07a8fa91a0f59a22d14a050dc04/emcee-3.1.6-py2.py3-none-any.whl.metadata\n",
      "  Downloading emcee-3.1.6-py2.py3-none-any.whl.metadata (3.0 kB)\n",
      "Requirement already satisfied: matplotlib<4.0.0,>=3.3.0 in c:\\users\\natha\\anaconda3\\lib\\site-packages (from pyextremes) (3.7.2)\n",
      "Requirement already satisfied: numpy<3.0.0,>=1.19.0 in c:\\users\\natha\\anaconda3\\lib\\site-packages (from pyextremes) (1.24.3)\n",
      "Requirement already satisfied: pandas<3.0.0,>=1.0.0 in c:\\users\\natha\\anaconda3\\lib\\site-packages (from pyextremes) (2.0.3)\n",
      "Requirement already satisfied: scipy<2.0.0,>=1.5.0 in c:\\users\\natha\\anaconda3\\lib\\site-packages (from pyextremes) (1.11.1)\n",
      "Requirement already satisfied: contourpy>=1.0.1 in c:\\users\\natha\\anaconda3\\lib\\site-packages (from matplotlib<4.0.0,>=3.3.0->pyextremes) (1.0.5)\n",
      "Requirement already satisfied: cycler>=0.10 in c:\\users\\natha\\anaconda3\\lib\\site-packages (from matplotlib<4.0.0,>=3.3.0->pyextremes) (0.11.0)\n",
      "Requirement already satisfied: fonttools>=4.22.0 in c:\\users\\natha\\anaconda3\\lib\\site-packages (from matplotlib<4.0.0,>=3.3.0->pyextremes) (4.25.0)\n",
      "Requirement already satisfied: kiwisolver>=1.0.1 in c:\\users\\natha\\anaconda3\\lib\\site-packages (from matplotlib<4.0.0,>=3.3.0->pyextremes) (1.4.4)\n",
      "Requirement already satisfied: packaging>=20.0 in c:\\users\\natha\\anaconda3\\lib\\site-packages (from matplotlib<4.0.0,>=3.3.0->pyextremes) (23.1)\n",
      "Requirement already satisfied: pillow>=6.2.0 in c:\\users\\natha\\anaconda3\\lib\\site-packages (from matplotlib<4.0.0,>=3.3.0->pyextremes) (9.4.0)\n",
      "Requirement already satisfied: pyparsing<3.1,>=2.3.1 in c:\\users\\natha\\anaconda3\\lib\\site-packages (from matplotlib<4.0.0,>=3.3.0->pyextremes) (3.0.9)\n",
      "Requirement already satisfied: python-dateutil>=2.7 in c:\\users\\natha\\anaconda3\\lib\\site-packages (from matplotlib<4.0.0,>=3.3.0->pyextremes) (2.8.2)\n",
      "Requirement already satisfied: pytz>=2020.1 in c:\\users\\natha\\anaconda3\\lib\\site-packages (from pandas<3.0.0,>=1.0.0->pyextremes) (2023.3.post1)\n",
      "Requirement already satisfied: tzdata>=2022.1 in c:\\users\\natha\\anaconda3\\lib\\site-packages (from pandas<3.0.0,>=1.0.0->pyextremes) (2023.3)\n",
      "Requirement already satisfied: six>=1.5 in c:\\users\\natha\\anaconda3\\lib\\site-packages (from python-dateutil>=2.7->matplotlib<4.0.0,>=3.3.0->pyextremes) (1.16.0)\n",
      "Downloading pyextremes-2.3.3-py3-none-any.whl (57 kB)\n",
      "   ---------------------------------------- 0.0/57.6 kB ? eta -:--:--\n",
      "   --------------------- ------------------ 30.7/57.6 kB 1.4 MB/s eta 0:00:01\n",
      "   ---------------------------------------- 57.6/57.6 kB 1.5 MB/s eta 0:00:00\n",
      "Downloading emcee-3.1.6-py2.py3-none-any.whl (47 kB)\n",
      "   ---------------------------------------- 0.0/47.4 kB ? eta -:--:--\n",
      "   ---------------------------------------- 47.4/47.4 kB 2.5 MB/s eta 0:00:00\n",
      "Installing collected packages: emcee, pyextremes\n",
      "Successfully installed emcee-3.1.6 pyextremes-2.3.3\n",
      "Note: you may need to restart the kernel to use updated packages.\n"
     ]
    }
   ],
   "source": [
    "%pip install pyextremes"
   ]
  },
  {
   "cell_type": "code",
   "execution_count": 11,
   "id": "d2f5e32b",
   "metadata": {},
   "outputs": [
    {
     "name": "stderr",
     "output_type": "stream",
     "text": [
      "[*********************100%***********************]  1 of 1 completed"
     ]
    },
    {
     "name": "stdout",
     "output_type": "stream",
     "text": [
      "(4378, 1)\n"
     ]
    },
    {
     "name": "stderr",
     "output_type": "stream",
     "text": [
      "\n"
     ]
    }
   ],
   "source": [
    "import yfinance as yf\n",
    "import numpy as np\n",
    "import pyextremes\n",
    "\n",
    "data = yf.download(\"^GSPC\", start=\"2008-01-01\")['Close'] #S&P 500\n",
    "log_returns = np.log(data / data.shift(1)).dropna()\n",
    "print(data.shape)\n"
   ]
  },
  {
   "cell_type": "code",
   "execution_count": null,
   "id": "54ebcb19",
   "metadata": {},
   "outputs": [
    {
     "data": {
      "text/plain": [
       "(<Figure size 768x480 with 1 Axes>, <Axes: xlabel='Date', ylabel='^GSPC'>)"
      ]
     },
     "execution_count": 13,
     "metadata": {},
     "output_type": "execute_result"
    }
   ],
   "source": [
    "losses = -log_returns[log_returns < 0] #negative returns values\n",
    "threshold = np.quantile(losses, 0.95) #0.95th quantile from data, crude\n",
    "extreme_values = losses[losses > threshold] - threshold\n",
    "\n",
    "model = pyextremes.EVA(data=data['^GSPC'])\n",
    "model.get_extremes(\"BM\")\n",
    "model.plot_extremes()"
   ]
  }
 ],
 "metadata": {
  "kernelspec": {
   "display_name": "base",
   "language": "python",
   "name": "python3"
  },
  "language_info": {
   "codemirror_mode": {
    "name": "ipython",
    "version": 3
   },
   "file_extension": ".py",
   "mimetype": "text/x-python",
   "name": "python",
   "nbconvert_exporter": "python",
   "pygments_lexer": "ipython3",
   "version": "3.11.5"
  }
 },
 "nbformat": 4,
 "nbformat_minor": 5
}
